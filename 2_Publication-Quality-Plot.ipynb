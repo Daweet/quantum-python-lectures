{
 "metadata": {
  "name": "",
  "signature": "sha256:ec94332877782c05e8f7c133cc2a61190029ce4c534dc176d7b47c418656a2b3"
 },
 "nbformat": 3,
 "nbformat_minor": 0,
 "worksheets": [
  {
   "cells": [
    {
     "cell_type": "markdown",
     "metadata": {},
     "source": [
      "#Making publication quality plots\n",
      "By David Paredes (<davidparedes@ambages.es>).\n",
      "<div align=\"right\"> \"Make things as simple as possible, but not simpler.\" - __paraphrasing Albert Einstein__</div>\n",
      "\n",
      "\n",
      "\n",
      "The following tutorial will cover the \"basic\" plotting tools to make a publication quality plot. We will follow the following steps:\n",
      "- load some data and make the simplest plot. \n",
      "- Identify the differences between simple and not-so-simple plot\n",
      "- Change the graph step by step.\n",
      "\n",
      "We shall start by preparing some of the libraries required for now:"
     ]
    },
    {
     "cell_type": "code",
     "collapsed": false,
     "input": [
      "#Matplotlib magic\n",
      "%matplotlib inline                        \n",
      "from numpy import loadtxt, sqrt, array    #Some mathematical functions\n",
      "\n",
      "import matplotlib.pyplot as plt           #For plotting\n",
      "from matplotlib import rc                 #To alter the defaults of plots       \n",
      "#from sys import path                      # In some implementations the \n",
      "#path.append('')\n",
      "from IPython import display               #A helper to display figures that are being updated"
     ],
     "language": "python",
     "metadata": {},
     "outputs": [],
     "prompt_number": 1
    },
    {
     "cell_type": "markdown",
     "metadata": {},
     "source": [
      "#Simplest plot\n",
      "The following code obtains data from a file and plots it."
     ]
    },
    {
     "cell_type": "code",
     "collapsed": false,
     "input": [
      "# Load the data:\n",
      "# (see help(loadtxt) or scipy.org )\n",
      "data = loadtxt('code/plot-basics/datag2.csv', delimiter=',')\n",
      "\n",
      "#The first column of the file is the time in seconds\n",
      "#The second column of the file is the autocorrelation function\n",
      "datax = data[:,0]*1e6    \n",
      "datay = data[:,1]\n",
      "\n",
      "\n",
      "\n",
      "############## PLOT ###############\n",
      "plt.ion()    # To do interactive plotting\n",
      "plt.plot(datax,datay)\n",
      "plt.savefig('images/simplefig.png',dpi=600)\n",
      "plt.draw()"
     ],
     "language": "python",
     "metadata": {},
     "outputs": [
      {
       "metadata": {},
       "output_type": "display_data",
       "png": "[encoded data removed]",
       "text": [
        "<matplotlib.figure.Figure at 0x3a85e48>"
       ]
      }
     ],
     "prompt_number": 2
    },
    {
     "cell_type": "markdown",
     "metadata": {},
     "source": [
      "The plot represents the autocorrelation function of the detected counts produced by a 1us long square pulse measured by a single-photon avalanche photodiode (SPAD).\n",
      "It is a bad plot because:\n",
      "- it is incomplete\n",
      "- full of unnecessary information\n",
      "- does not show clearly important information"
     ]
    },
    {
     "cell_type": "markdown",
     "metadata": {},
     "source": [
      "## Identify things to change\n",
      "In the following picture, the graph on the left shows the simplest graph. On the right hand side, a better graph (*alla Jean-Luc Doumont*). \n",
      "<img src=\"./images/comparison1.png\" width=\"960px\" />\n",
      "In the figure on the right we have removed the data outside the region of interest. We have also shown an inset that clearly depicts the central feature of the data (the dead-time of the detector). Finally, we have added labels and changed the size/style of the font to be more \"publication like\"\n",
      "\n",
      "To obtain the figure of the right, first we need to think/know what we want to change, and then change it.\n",
      "\n",
      "Some of the differences are:\n",
      "- Axes: limits, ticks, format\n",
      "- Labels\n",
      "- Colour\n",
      "- Inset\n",
      "\n",
      "A plot, in python, is an object. The axes are objects. The lines are objects. Understanding which member functions alter which characteristics of each of the objects is the key to being able to use python for publication-quality plotting. You don't need to learn these by heart: all the information can be found at <a href=\"http://matplotlib.org\">matplotlib.org</a>\n",
      "<img src=\"./images/comparison2.png\" width=\"960px\" />\n"
     ]
    },
    {
     "cell_type": "markdown",
     "metadata": {},
     "source": [
      "__Question:__ What do you think each of these member functions (also called methods) do?"
     ]
    },
    {
     "cell_type": "markdown",
     "metadata": {},
     "source": [
      "# Constructing the figure\n",
      "To construct the figure, we will need to:\n",
      "- Define some style constants, so that the labels and ticks are plotted with the right fonts\n",
      "- Create a figure object\n",
      "- Create axis in the figure (add_subplot)\n",
      "- Plot the data in the figure object\n",
      "- Format the spines of the figure"
     ]
    },
    {
     "cell_type": "code",
     "collapsed": false,
     "input": [
      "## - Change figure size and alter the fonts\n",
      "\n",
      "# Graph \n",
      "golden_mean = (sqrt(5)-1.0)/2.0         # Aesthetic ratio\n",
      "fig_width = 4                           # width in inches\n",
      "fig_height = fig_width*golden_mean      # height in inches (4.5 for two vertical figures?)\n",
      "fig_size = [fig_width,fig_height]\n",
      "\n",
      "# Define format parameters\n",
      "paramsscreen = {'backend': 'ps',\n",
      "          'font.family':'serif',\n",
      "          'text.usetex':'True',\n",
      "          'axes.labelsize': 15,\n",
      "          'text.fontsize': 15,\n",
      "           'legend.fontsize': 15,\n",
      "           'xtick.labelsize': 12,\n",
      "           'ytick.labelsize': 12,\n",
      "           'figure.figsize': array(fig_size)}\n",
      "\n",
      "paramsprint = {'backend': 'ps',\n",
      "          'font.family':'serif',\n",
      "          'text.usetex':'True',\n",
      "          'axes.labelsize': 10,\n",
      "          'text.fontsize': 10,\n",
      "           'legend.fontsize': 10,\n",
      "           'xtick.labelsize': 8,\n",
      "           'ytick.labelsize': 8,\n",
      "           'figure.figsize': fig_size}\n",
      "\n",
      "\n",
      "plt.rcParams.update(paramsscreen)\n",
      "\n",
      "lightblue='#91B8BD'     # The colour used in the plot\n",
      "\n",
      "\n",
      "## - Create figure object\n",
      "fig=plt.figure() \n",
      "\n",
      "## - Create axis\n",
      "bx=fig.add_subplot(111)\n",
      "\n",
      "## - Plot in axis\n",
      "bx.plot(datax,datay,'-',color =lightblue,lw=1)\n"
     ],
     "language": "python",
     "metadata": {},
     "outputs": [
      {
       "metadata": {},
       "output_type": "pyout",
       "prompt_number": 3,
       "text": [
        "[<matplotlib.lines.Line2D at 0x9ea6da0>]"
       ]
      },
      {
       "metadata": {},
       "output_type": "display_data",
       "png": "[encoded data removed]",
       "text": [
        "<matplotlib.figure.Figure at 0x9ea6550>"
       ]
      }
     ],
     "prompt_number": 3
    },
    {
     "cell_type": "code",
     "collapsed": false,
     "input": [
      "## Format the spines:\n",
      "## - Remove upper and right spines\n",
      "## - Remove unused ticks\n",
      "## - Change limits of the plot and of the spines\n",
      "\n",
      "# Spine formatting\n",
      "labely=-0.2\n",
      "bx.spines['left'].set_position(('outward',10))\n",
      "bx.spines['bottom'].set_position(('outward',10))\n",
      "bx.spines['top'].set_color('none')\n",
      "bx.spines['right'].set_color('none')\n",
      "\n",
      "# Even if the spines are removed from the top and right, the \"ticks\" are still present.\n",
      "# To remove them:\n",
      "bx.xaxis.set_ticks_position('bottom')\n",
      "bx.yaxis.set_ticks_position('left')\n",
      "\n",
      "# Change Y-Axis limits and format\n",
      "bx.set_ylim([0,3000])\n",
      "bx.set_yticks((0,1000,2000,3000))\n",
      "bx.spines['left'].set_bounds(0,3000)   # Take the spine out, \"alla Jean-Luc\"\n",
      "\n",
      "# Change X-Axis limits and format\n",
      "bx.set_xlim(-1.05,1.05)                # The limit is set slightly over 1 for \"artistic\" purposes\n",
      "bx.spines['bottom'].set_bounds(-1,1)\n",
      "bx.set_xticks((-1,0,1))                # ... but we limit the spine to 1\n",
      "display.display(fig)\n",
      "\n"
     ],
     "language": "python",
     "metadata": {},
     "outputs": [
      {
       "metadata": {},
       "output_type": "display_data",
       "png": "[encoded data removed]",
       "text": [
        "<matplotlib.figure.Figure at 0x9ea6550>"
       ]
      }
     ],
     "prompt_number": 4
    },
    {
     "cell_type": "code",
     "collapsed": false,
     "input": [
      "# - Add Labels (note that it supports Latex formatting).\n",
      "# If we require escape characters, we use \"r\" before the string\n",
      "yLab = '$G^{(2)}$'             \n",
      "xLab = r'$\\tau\\,\\mbox{( }\\mu\\mbox{s)} '   \n",
      "\n",
      "bx.set_xlabel(xLab)\n",
      "bx.set_ylabel(yLab)\n",
      "\n",
      "display.display(fig)"
     ],
     "language": "python",
     "metadata": {},
     "outputs": [
      {
       "metadata": {},
       "output_type": "display_data",
       "png": "[encoded data removed]",
       "text": [
        "<matplotlib.figure.Figure at 0x9ea6550>"
       ]
      }
     ],
     "prompt_number": 5
    },
    {
     "cell_type": "markdown",
     "metadata": {},
     "source": [
      "#Inset\n",
      "After we have created the main plot by removing the least important information and formatting a little, we now create the inset of the figure. \n",
      "\n",
      "- Create the axis that contain the inset.\n",
      "- Plot the data of interest\n",
      "- Format the spines (in the same way that we did before)\n",
      "\n",
      "To format the axis in the inset we use an analogous procedure, but this time we refer to the inset axis instead of the figure one."
     ]
    },
    {
     "cell_type": "code",
     "collapsed": false,
     "input": [
      "## - Plot inset:\n",
      "## Requires location of the axis (as a percentage of the window)\n",
      "\n",
      "######### INSET\n",
      "inset = fig.add_axes((0.65, 0.6, 0.3, 0.3))     # (left, bottom, width, height)\n",
      "\n",
      "inset.plot(datax,datay,'-',color =lightblue,lw=1)\n",
      "\n",
      "## AXIS FORMATTING for the inset (analogous to the one before)\n",
      "inset.spines['left'].set_color('none')\n",
      "inset.spines['bottom'].set_position(('outward',10))\n",
      "inset.spines['top'].set_color('none')\n",
      "inset.spines['right'].set_color('none')\n",
      "inset.xaxis.set_ticks_position('bottom')\n",
      "inset.yaxis.set_ticks_position('left')\n",
      "\n",
      "inset.set_yticks([])     #To avoid showing the vertical ticks.\n",
      "inset.set_xlim(-0.06,0.06)\n",
      "inset.set_xticks((0,28e-3))\n",
      "inset.set_xticklabels([\"0\",r\"$28\\,\\mbox{ns}$\"])\n",
      "inset.spines['bottom'].set_bounds(0,0.028)\n",
      "\n",
      "\n",
      "plt.savefig('images/fancyfig.png',dpi=600)  # Changed puke '-' to '-.'\n",
      "display.display(fig)"
     ],
     "language": "python",
     "metadata": {},
     "outputs": [
      {
       "metadata": {},
       "output_type": "display_data",
       "png": "[encoded data removed]",
       "text": [
        "<matplotlib.figure.Figure at 0x9ea6550>"
       ]
      },
      {
       "metadata": {},
       "output_type": "display_data",
       "text": [
        "<matplotlib.figure.Figure at 0xa6438d0>"
       ]
      }
     ],
     "prompt_number": 6
    },
    {
     "cell_type": "markdown",
     "metadata": {},
     "source": [
      "#Sweet\n",
      "And this is it! We have created our first non-trivial plot using matplotlib!\n",
      "\n",
      "Now, you can try changing the parameters, adding different lines to each of the plots, changing the position and size of the inset,..."
     ]
    }
   ],
   "metadata": {}
  }
 ]
}