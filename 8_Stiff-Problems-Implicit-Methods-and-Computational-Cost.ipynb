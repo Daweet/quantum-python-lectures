{
 "metadata": {
  "name": "",
  "signature": "sha256:961d5e162ffa88888a5b06c22419b31141e2616fb9a01c7608a43a1f75bdb12c"
 },
 "nbformat": 3,
 "nbformat_minor": 0,
 "worksheets": [
  {
   "cells": [
    {
     "cell_type": "markdown",
     "metadata": {},
     "source": [
      "# Stiff Problems, Implicit Methods and Computational Cost\n",
      "\n",
      "By Thomas P Ogden (<t.p.ogden@durham.ac.uk>)"
     ]
    },
    {
     "cell_type": "code",
     "collapsed": false,
     "input": [
      "import numpy as np\n",
      "import matplotlib.pyplot as plt\n",
      "%matplotlib inline"
     ],
     "language": "python",
     "metadata": {},
     "outputs": [],
     "prompt_number": 13
    },
    {
     "cell_type": "markdown",
     "metadata": {},
     "source": [
      "## Stiff Problems\n",
      "\n"
     ]
    },
    {
     "cell_type": "code",
     "collapsed": false,
     "input": [
      "y_0 = np.array([1.]) # Initial condition\n",
      "\n",
      "N = 10 # Num of steps to take\n",
      "t_max = 5.\n",
      "t = np.linspace(0., t_max, N+1) # Array of time steps\n",
      "\n",
      "solve_args = {}\n",
      "solve_args['a'] = -15."
     ],
     "language": "python",
     "metadata": {},
     "outputs": [],
     "prompt_number": 14
    },
    {
     "cell_type": "code",
     "collapsed": false,
     "input": [
      "from exp import exp\n",
      "from ode_int import ode_int_ee\n",
      "\n",
      "y = ode_int_ee(exp, y_0, t, solve_args) # Solve the ODE with Explicit Euler\n",
      "\n",
      "plt.plot(t, y[:,0], 'b-o', label='Explicit Euler')\n",
      "plt.plot(t, np.exp(solve_args['a']*t), 'k--', label='Known')\n",
      "plt.xlabel(r'$t$')\n",
      "plt.ylabel(r'$y(t)$')\n",
      "plt.legend(loc=2)\n",
      "\n",
      "plt.show()"
     ],
     "language": "python",
     "metadata": {},
     "outputs": [
      {
       "metadata": {},
       "output_type": "display_data",
       "png": "[encoded data removed]",
       "text": [
        "<matplotlib.figure.Figure at 0x388f110>"
       ]
      }
     ],
     "prompt_number": 15
    },
    {
     "cell_type": "markdown",
     "metadata": {},
     "source": [
      "## Stability\n",
      "\n",
      "[[ Describe stability regions and why the exlicit Euler method is unstable for the above problem ]]"
     ]
    },
    {
     "cell_type": "markdown",
     "metadata": {},
     "source": [
      "##\u00a0Implicit Euler"
     ]
    },
    {
     "cell_type": "markdown",
     "metadata": {},
     "source": [
      "[[ Write an implicit Euler solver here and solve the above problem]]"
     ]
    },
    {
     "cell_type": "markdown",
     "metadata": {},
     "source": [
      "## Computational Cost\n",
      "\n",
      "If the Runge-Kutta method is $\\mathcal{O}(h^4)$, why would we ever use a less accurate method like Explicit Euler? The answer of course is the RK method we wrote has more computation steps, so we expect it to be more expensive in computer time. If accuracy were the only concern we could pick a method truncating the Taylor expansion way up the series to some huge order, but it might take an age to run and we likely don't need that level of accuracy. We make a trade-off: a sufficient level of accuracy in our solution and a reasonable amount of time to find it.\n",
      "\n",
      "(**A Note on Notation**: It's confusing, but we use '[Big O Notation][big_o]' to quantify the computational complexity of a method, as well as the order of accuracy like we've already seem. I'll use the blackboard bold $\\mathbb{O}$ to distinguish computational cost from calligraphic $\\mathcal{O}$ for order of accuracy.)\n",
      "\n",
      "As both the Explicit Euler and Runge-Kutta methods loop once through $N$ steps, executing a sequence of instructions, we expect both to have a computational cost of order $\\mathbb{O}(N^1)$ i.e. that the problem will be solved in linear time. When $N$ doubles, so should the running time in both cases. But with its computation of the interval $k$-points, we expect the Runge-Kutta method to be slower. We can check this with Python's `timeit` module.\n",
      "\n",
      "[big_o]: http://en.wikipedia.org/wiki/Big_O_notation"
     ]
    },
    {
     "cell_type": "code",
     "collapsed": false,
     "input": [
      "from exp import exp\n",
      "import timeit\n",
      "\n",
      "y_0 = np.array([1.]) # Initial condition\n",
      "\n",
      "solve_args = {}\n",
      "solve_args['a'] = 1.\n",
      "\n",
      "t_max = 5.\n",
      "\n",
      "from ode_int import ode_int_ee, ode_int_rk, ode_int_ab\n",
      "\n",
      "def solve_exp_over_a(method, N, max_a):\n",
      "    num_a_steps = 10\n",
      "    t = np.linspace(0, 5., N+1)\n",
      "    if method == 'ee':\n",
      "        ode_int_exp = lambda a: ode_int_ee(exp, y_0, t, dict(solve_args, a=a))\n",
      "    elif method == 'rk':\n",
      "        ode_int_exp = lambda a: ode_int_rk(exp, y_0, t, dict(solve_args, a=a))\n",
      "    elif method == 'ab':\n",
      "        ode_int_exp = lambda a: ode_int_ab(exp, y_0, t, dict(solve_args, a=a))\n",
      "#     elif method == 'ie':\n",
      "#         ode_int_exp = lambda a: ode_int_ie(exp, y_0, t, dict(solve_args, a=a))\n",
      "    for a in np.linspace(1., max_a, num_a_steps+1):\n",
      "        ode_int_exp(a)               \n",
      "        \n",
      "N_list = [2, 20, 200, 2000]        \n",
      "\n",
      "ee_time = np.zeros(len(N_list))\n",
      "rk_time = np.zeros(len(N_list))\n",
      "ab_time = np.zeros(len(N_list))\n",
      "ie_time = np.zeros(len(N_list))\n",
      "\n",
      "for i, N in enumerate(N_list):\n",
      "\n",
      "    print 'N: %d'%N  \n",
      "  \n",
      "    ee_time[i] = min(timeit.Timer('solve_exp_over_a(\"ee\", %d, 5)'%N,\n",
      "                    setup='from __main__ import solve_exp_over_a').repeat(7, 1))    \n",
      "    rk_time[i] = min(timeit.Timer('solve_exp_over_a(\"rk\", %d, 5)'%N,\n",
      "                    setup='from __main__ import solve_exp_over_a').repeat(7, 1))\n",
      "    ab_time[i] = min(timeit.Timer('solve_exp_over_a(\"ab\", %d, 5)'%N,\n",
      "                    setup='from __main__ import solve_exp_over_a').repeat(7, 1))\n",
      "#     ie_time[i] = min(timeit.Timer('solve_exp_over_a(\"ie\", %d, 5)'%N,\n",
      "#                     setup='from __main__ import solve_exp_over_a').repeat(7, 1))"
     ],
     "language": "python",
     "metadata": {},
     "outputs": [
      {
       "output_type": "stream",
       "stream": "stdout",
       "text": [
        "N: 2\n",
        "N: 20\n",
        "N: 200"
       ]
      },
      {
       "output_type": "stream",
       "stream": "stdout",
       "text": [
        "\n",
        "N: 2000"
       ]
      },
      {
       "output_type": "stream",
       "stream": "stdout",
       "text": [
        "\n"
       ]
      }
     ],
     "prompt_number": 16
    },
    {
     "cell_type": "code",
     "collapsed": false,
     "input": [
      "plt.plot(N_list, ee_time, label='Explicit Euler')    \n",
      "plt.plot(N_list, rk_time, label='Runge-Kutta')\n",
      "plt.plot(N_list, ab_time, label='Adams-Bashforth')\n",
      "# plt.plot(N_list, ie_time, label='Implicit Euler')\n",
      "plt.legend(loc=2)"
     ],
     "language": "python",
     "metadata": {},
     "outputs": [
      {
       "metadata": {},
       "output_type": "pyout",
       "prompt_number": 17,
       "text": [
        "<matplotlib.legend.Legend at 0x3876c10>"
       ]
      },
      {
       "metadata": {},
       "output_type": "display_data",
       "png": "[encoded data removed]",
       "text": [
        "<matplotlib.figure.Figure at 0x38a2e90>"
       ]
      }
     ],
     "prompt_number": 17
    },
    {
     "cell_type": "markdown",
     "metadata": {},
     "source": [
      "## Next\n",
      "\n",
      "In Part 4 we'll look at using the **Scipy** ODE integration pack and the **QuTiP** solver for the specific problem of solving the Schr\u00f6dinger equation (for a **closed quantum system**) and Lindblad master equation (for an **open quantum system**)."
     ]
    }
   ],
   "metadata": {}
  }
 ]
}