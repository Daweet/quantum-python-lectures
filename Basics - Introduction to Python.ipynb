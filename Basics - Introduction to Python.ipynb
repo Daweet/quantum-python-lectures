{
 "metadata": {
  "name": "",
  "signature": "sha256:b3e6a49a750179bedc546e33f28ed4163e82c2f07e7546110a3e6766ffb89ee5"
 },
 "nbformat": 3,
 "nbformat_minor": 0,
 "worksheets": [
  {
   "cells": [
    {
     "cell_type": "heading",
     "level": 1,
     "metadata": {},
     "source": [
      "How does python work?\n",
      "\n",
      "\n"
     ]
    },
    {
     "cell_type": "markdown",
     "metadata": {},
     "source": [
      "Python is a scripting language; that means, broadly speaking, that to get a program running one needs two components: a script and and interpreter.\n",
      "\n",
      "A python script is a file with the extension \".py\" which is writen in plain text (for example <a href= \"./code/helloworld.py\">helloworld.py</a>)\n",
      "An interpreter is usually a binary file called \"python\" in your operative system, that you can feed your scripts to be executed. You can interact with the interpreter directly, by calling it without feeding it any scripts, and the interpreter will run the commands in the order you write them.\n",
      "\n",
      "You can imagine the way the python interpreter works like a pianola (a player piano): it usually works with some punched rolls (the script), playing the music previously recorded; but you can also play it straight ahead, without the need for a roll.\n",
      "\n"
     ]
    },
    {
     "cell_type": "heading",
     "level": 2,
     "metadata": {},
     "source": [
      "Running a script \".py\""
     ]
    },
    {
     "cell_type": "markdown",
     "metadata": {},
     "source": [
      "A very simple example can be a program that outputs \"Hello world\" in your console. For example, the file <a href= \"./code/helloworld.py\">helloworld.py</a>  consists of the following line:\n",
      "\n",
      "<code> print 'Hello, World!' </code>\n",
      "\n",
      "If you download the file You can run it by writing in your console <code> python helloworld.py </code>, and the output should be\n",
      "\n",
      "<code> Hello, world! </code>\n",
      "\n",
      "<b>Try this yourself!</b> Download the file to a location in your system, and then run the script from the command line."
     ]
    },
    {
     "cell_type": "heading",
     "level": 2,
     "metadata": {},
     "source": [
      "Running python as an interpreter"
     ]
    },
    {
     "cell_type": "markdown",
     "metadata": {},
     "source": [
      "If you are anywhere in your system, you can access your python interpreter by writing <code> python </code> in your console/terminal.\n",
      "\n",
      "You will get an output of the form:\n",
      "\n",
      "<code>\n",
      "Python 2.7.5 (default, Aug 25 2013, 00:04:04)                          <--\n",
      "[GCC 4.2.1 Compatible Apple LLVM 5.0 (clang-500.0.68)] on darwin       <-- This might be different!\n",
      "Type \"help\", \"copyright\", \"credits\" or \"license\" for more information.\n",
      "\\>\\>\\></code>\n",
      "\n",
      "Once you are in that situation, you can just write the line that was in the file \"helloworld.py\" to obtain the following output:\n"
     ]
    },
    {
     "cell_type": "code",
     "collapsed": false,
     "input": [
      "print 'Hello, World!'"
     ],
     "language": "python",
     "metadata": {},
     "outputs": [
      {
       "output_type": "stream",
       "stream": "stdout",
       "text": [
        "Hello, World!\n"
       ]
      }
     ],
     "prompt_number": 1
    },
    {
     "cell_type": "markdown",
     "metadata": {},
     "source": [
      "Note that there are single quotation marks around the text you want to be shown. Using double quotation marks is also fine, but you should be consistent when using one or the other.\n",
      "\n",
      "\n",
      "## Exercises\n",
      " You have just completed your first trip into python! Some exercises for you to practise:\n",
      "\n",
      "* Find the location of the ```python``` binary in your system?\n",
      "* Write a script that outputs several lines of text. You can do this by writing several ```print``` statements, or by using the character ```\\n``` at the end of each line. Then, execute the script using your python interpreter.\n",
      "* Do the same multi-line output inside the interpreter, using your system console/terminal.\n"
     ]
    }
   ],
   "metadata": {}
  }
 ]
}