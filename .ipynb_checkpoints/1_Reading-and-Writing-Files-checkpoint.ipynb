{
 "metadata": {
  "name": "",
  "signature": "sha256:3df2005a747f0255ed0a49944822ea9a3f4371282104dfa9f15fdcc935c06ea2"
 },
 "nbformat": 3,
 "nbformat_minor": 0,
 "worksheets": [
  {
   "cells": [
    {
     "cell_type": "markdown",
     "metadata": {},
     "source": [
      "# Reading and Writing Files\n",
      "\n",
      "by David Parades (<david.paredes@durham.ac.uk>) and James Keaveney (<james.keaveney@durham.ac.uk>)"
     ]
    },
    {
     "cell_type": "markdown",
     "metadata": {},
     "source": [
      "## Two ways of opening a data file\n",
      "\n",
      "In python, there are two ways of opening a data file:\n",
      "\n",
      "- Using the built in <code>open</code>  function\n",
      "- Using libraries that parse the file, if it has some format\n",
      "\n",
      "Usually, we will deal with highly structured files, so the second method will be easier in most cases (in the case of big files this is no longer true).\n",
      "\n",
      "In this tutorial, we will overview two modules/functions, <code>numpy.loadtxt</code> and <code>csv</code>, that allow you to get data from comma-separated-value files (csv), where the different data values reside in a file separated by commas, spaces or other delimiters (as the name suggests...)\n",
      "\n",
      "## loadtxt\n",
      "The function <a href=\"http://docs.scipy.org/doc/numpy/reference/generated/numpy.loadtxt.html\"><code>numpy.loadtxt</code></a>  also present as <code>scipy.loadtxt</code> in the <code>scipy</code> package, is very simple to use. You just use the name of the file in string format (that is, separated by normal or double-quotes) and the output is an array with the contents of the file. \n",
      "\n",
      "For example, let's load the information in the file <a href=\"./code/io/csv_example/simpleDataset.csv\">simpleDataset.csv</a> and store it in variable <code>myDataset</code>.\n"
     ]
    },
    {
     "cell_type": "code",
     "collapsed": false,
     "input": [
      "import numpy     #Remember to import the module\n",
      "myDataset = numpy.loadtxt(\"./code/io/csv_example/simpleDataset.csv\")\n",
      "print myDataset"
     ],
     "language": "python",
     "metadata": {},
     "outputs": [
      {
       "output_type": "stream",
       "stream": "stdout",
       "text": [
        "[[  1.       3.023 ]\n",
        " [  2.       5.1   ]\n",
        " [  6.      23.    ]\n",
        " [  6.6      2.    ]\n",
        " [  8.       9.23  ]\n",
        " [  8.1     10.0001]]\n"
       ]
      }
     ],
     "prompt_number": 75
    },
    {
     "cell_type": "markdown",
     "metadata": {},
     "source": [
      "The text file contains two columns of numbers separated by one space. By default, the function takes as a delimiter any white space. \n",
      "If, for example, the values were separated by commas (as in <a href=\"./code/io/csv_example/simpleDatasetComma.txt\">simpleDatasetComma.txt</a>), we would need to specify the variable <code>delimiter</code>, which is a string containing the delimiting character(s)."
     ]
    },
    {
     "cell_type": "code",
     "collapsed": false,
     "input": [
      "myDatasetComma = numpy.loadtxt(\"./code/io/csv_example/simpleDatasetComma.txt\", delimiter=',')\n",
      "print myDatasetComma"
     ],
     "language": "python",
     "metadata": {},
     "outputs": [
      {
       "output_type": "stream",
       "stream": "stdout",
       "text": [
        "[[  1.       3.023 ]\n",
        " [  2.       5.1   ]\n",
        " [  6.      23.    ]\n",
        " [  6.6      2.    ]\n",
        " [  8.       9.23  ]\n",
        " [  8.1     10.0001]]\n"
       ]
      }
     ],
     "prompt_number": 76
    },
    {
     "cell_type": "markdown",
     "metadata": {},
     "source": [
      "Some files contain headers that are not part of the data (see <a href=\"./code/io/csv_example/fileWithHeader.csv\">fileWithHeader.csv</a>). This file contains 3 lines that give information about the data, but that is not data. The header can be skipped by using keyword <code>skiprows</code>"
     ]
    },
    {
     "cell_type": "code",
     "collapsed": false,
     "input": [
      "complicatedDataset = numpy.loadtxt(\"./code/io/csv_example/fileWithHeader.csv\",delimiter=',', skiprows=3)\n",
      "print complicatedDataset"
     ],
     "language": "python",
     "metadata": {},
     "outputs": [
      {
       "output_type": "stream",
       "stream": "stdout",
       "text": [
        "[[-0.0836      0.479172    0.00209844  0.202813  ]\n",
        " [-0.083598    0.479313    0.00194219  0.202813  ]\n",
        " [-0.083596    0.479313    0.00180156  0.20275   ]\n",
        " [-0.083594    0.479313    0.00191875  0.20277   ]\n",
        " [-0.083592    0.478969    0.00184531  0.20275   ]]\n"
       ]
      }
     ],
     "prompt_number": 77
    },
    {
     "cell_type": "markdown",
     "metadata": {},
     "source": [
      "You can also select which columns to extract from the file with the keyword <code>usecols</code>"
     ]
    },
    {
     "cell_type": "code",
     "collapsed": false,
     "input": [
      "justSomeCols = numpy.loadtxt(\"./code/io/csv_example/fileWithHeader.csv\", \n",
      "                                   delimiter=',', skiprows=3, usecols=(1,3))\n",
      "print justSomeCols"
     ],
     "language": "python",
     "metadata": {},
     "outputs": [
      {
       "output_type": "stream",
       "stream": "stdout",
       "text": [
        "[[ 0.479172  0.202813]\n",
        " [ 0.479313  0.202813]\n",
        " [ 0.479313  0.20275 ]\n",
        " [ 0.479313  0.20277 ]\n",
        " [ 0.478969  0.20275 ]]\n"
       ]
      }
     ],
     "prompt_number": 78
    },
    {
     "cell_type": "markdown",
     "metadata": {},
     "source": [
      "\n",
      "You can get more information about <a href=\"http://docs.scipy.org/doc/numpy/reference/generated/numpy.loadtxt.html\"><code>numpy.loadtxt</code></a> in the scipy page, or using the <code>help</code> function, as described in the page <a href=\"notebooks/Basics - Help and information.ipynb\">Basics - Help and information</a>."
     ]
    },
    {
     "cell_type": "markdown",
     "metadata": {},
     "source": [
      "## csv\n",
      "\n",
      "The module <code>csv</code> has a syntax very similar to that of <code>loadtxt</code> but is much more powerful in the sense that it can handle all sorts of data types. The <a href=\"https://docs.python.org/2/library/csv.html\">official documentation</a> states:\n",
      "\n",
      "__The lack of a standard (for csv files) means that subtle differences often exist in the data produced and consumed by different applications. These differences can make it annoying to process CSV files from multiple sources.___\n",
      "\n",
      "This modules provides classes to read and write tabular data from/to different formats. The most basic example of reading with this module would be:"
     ]
    },
    {
     "cell_type": "code",
     "collapsed": false,
     "input": [
      "import csv\n",
      "with open(\"./code/io/csv_example/simpleDataset.csv\", 'rb') as ultraImportantFile:\n",
      "    importantReader = csv.reader(ultraImportantFile, delimiter=' ')\n",
      "    for row in importantReader:\n",
      "        print row"
     ],
     "language": "python",
     "metadata": {},
     "outputs": [
      {
       "output_type": "stream",
       "stream": "stdout",
       "text": [
        "['1', '3.023']\n",
        "['2', '5.1']\n",
        "['6', '23']\n",
        "['6.6', '2']\n",
        "['8', '9.23']\n",
        "['8.1', '10.0001']\n"
       ]
      }
     ],
     "prompt_number": 79
    },
    {
     "cell_type": "markdown",
     "metadata": {},
     "source": [
      "As you can see (look at the quotation marks), the reader stores the data as a list of strings separated by the delimiter. This is a default, since a lot of csv files can have heterogeneous data. It is possible to use the function <code>float</code> to convert the data to floats (for example), like\n"
     ]
    },
    {
     "cell_type": "code",
     "collapsed": false,
     "input": [
      "with open(\"./code/io/csv_example/simpleDataset.csv\", 'rb') as ultraImportantFile:\n",
      "    data = list(csv.reader(ultraImportantFile, delimiter=' '))\n",
      "    print float(data[0][1])\n"
     ],
     "language": "python",
     "metadata": {},
     "outputs": [
      {
       "output_type": "stream",
       "stream": "stdout",
       "text": [
        "3.023\n"
       ]
      }
     ],
     "prompt_number": 80
    },
    {
     "cell_type": "markdown",
     "metadata": {},
     "source": [
      "It is also possible to give significative names to columns. For example, if the two columns in the file represent \"current\" and \"voltage\", using the DictReader function"
     ]
    },
    {
     "cell_type": "code",
     "collapsed": false,
     "input": [
      "currentData = []\n",
      "voltData = []\n",
      "cols = ['current', 'voltage']\n",
      "with open(\"./code/io/csv_example/simpleDatasetComma.txt\", 'rb') as csvfile:\n",
      "    for row in csv.DictReader(csvfile, fieldnames=cols, delimiter=','):\n",
      "        # Convert non-string data here e.g.:\n",
      "        thiscurrent = float(row['current'])\n",
      "        thisvoltage = float(row['voltage'])\n",
      "        currentData.append(thiscurrent)\n",
      "        voltData.append(thisvoltage)\n",
      "    print currentData, voltData"
     ],
     "language": "python",
     "metadata": {},
     "outputs": [
      {
       "output_type": "stream",
       "stream": "stdout",
       "text": [
        "[1.0, 2.0, 6.0, 6.6, 8.0, 8.1] [3.023, 5.1, 23.0, 2.0, 9.23, 10.0001]\n"
       ]
      }
     ],
     "prompt_number": 81
    },
    {
     "cell_type": "markdown",
     "metadata": {},
     "source": [
      "#File Output\n",
      "\n",
      "So far we've looked at reading files in, but occasionally it's useful to be able to save processed data. If the data needs to be human-read, or read again outside of the code it's written in, then outputting as a csv is useful. If this is not the case, for example you run a calculation that takes a long time and you need to save the result so that the next time the program is run you just look the result up instead of re-calculating, then *pickled* (just the binary) data is the easiest format to use. We will give examples of both below."
     ]
    },
    {
     "cell_type": "markdown",
     "metadata": {},
     "source": [
      "## CSV writing\n",
      "\n",
      "Let's generate some csv data to eventually export:"
     ]
    },
    {
     "cell_type": "code",
     "collapsed": false,
     "input": [
      "import numpy as np\n",
      "\n",
      "#generate random data\n",
      "x = np.arange(-10,10,0.01)\n",
      "y = np.sin(3*x**2)*np.cos(x)**2\n",
      "\n",
      "# print the first few lines\n",
      "print x[0:10], y[0:10]"
     ],
     "language": "python",
     "metadata": {},
     "outputs": [
      {
       "output_type": "stream",
       "stream": "stdout",
       "text": [
        "[-10.    -9.99  -9.98  -9.97  -9.96  -9.95  -9.94  -9.93  -9.92  -9.91] [-0.70386913 -0.57965427 -0.24754818  0.17987328  0.55413639  0.74256453\n",
        "  0.67521336  0.3704655  -0.06997309 -0.49529355]\n"
       ]
      }
     ],
     "prompt_number": 82
    },
    {
     "cell_type": "markdown",
     "metadata": {},
     "source": [
      "Now let's write this into a two-column csv file. We write row-by-row so first we need to convert the data into a 2d-array. We do this using the built-in *zip* function:"
     ]
    },
    {
     "cell_type": "code",
     "collapsed": false,
     "input": [
      "xy = zip(x,y)\n",
      "\n",
      "# look at the first few lines of this - note the format is different to the previous block\n",
      "print xy[0:10]"
     ],
     "language": "python",
     "metadata": {},
     "outputs": [
      {
       "output_type": "stream",
       "stream": "stdout",
       "text": [
        "[(-10.0, -0.70386913217899505), (-9.9900000000000002, -0.57965426709639589), (-9.9800000000000004, -0.24754817534860593), (-9.9700000000000006, 0.17987328163207517), (-9.9600000000000009, 0.55413639253598546), (-9.9500000000000011, 0.74256452644996929), (-9.9400000000000013, 0.67521336030495893), (-9.9300000000000015, 0.37046549973305676), (-9.9200000000000017, -0.069973092764842343), (-9.9100000000000019, -0.49529354803092768)]\n"
       ]
      }
     ],
     "prompt_number": 83
    },
    {
     "cell_type": "code",
     "collapsed": false,
     "input": [
      "import csv\n",
      "\n",
      "filename = './code/io/csv_example/csv_write_example.csv'\n",
      "with open(filename, 'wb') as csvfile:\n",
      "    csv_writer = csv.writer(csvfile,delimiter=',')\n",
      "    \n",
      "    # if header lines are required, they can be written here\n",
      "    header_line = ('Time (ms)', 'Voltage (V)')\n",
      "    csv_writer.writerow(header_line)\n",
      "    \n",
      "    # write main block of data\n",
      "    for xy_line in xy:\n",
      "        csv_writer.writerow(xy_line)"
     ],
     "language": "python",
     "metadata": {},
     "outputs": [],
     "prompt_number": 84
    },
    {
     "cell_type": "markdown",
     "metadata": {},
     "source": [
      "That's it. More columns can be added simply by zipping more things together, e.g. zip(x,y,z,...). If you want to look at the csv file we just generated, it's <a href=\"./code/io/csv_example/csv_write_example.csv\">here</a>."
     ]
    },
    {
     "cell_type": "markdown",
     "metadata": {},
     "source": [
      "## The Pickle module\n",
      "\n",
      "Let's generate some data that takes a while to process. A large 2D-array should do the job nicely for now. Let's plot it as well, while we're on. And for comparison purposes, let's time how long it takes..."
     ]
    },
    {
     "cell_type": "code",
     "collapsed": false,
     "input": [
      "%matplotlib inline\n",
      "import matplotlib.pyplot as plt\n",
      "import numpy as np\n",
      "import time\n",
      "\n",
      "st = time.clock()\n",
      "\n",
      "# make large arrays\n",
      "x = np.arange(-100,100,0.1)\n",
      "y = np.arange(-200,200,0.2)\n",
      "\n",
      "X,Y = np.meshgrid(x,y)\n",
      "\n",
      "Z = np.exp(-(X**2+Y**2)/80**2)*np.cos(np.sqrt(X**2+Y**2)/20)**2\n",
      "\n",
      "print 'Elapsed time (ms):', (time.clock() - st)*1e3\n",
      "plt.imshow(Z)"
     ],
     "language": "python",
     "metadata": {},
     "outputs": [
      {
       "output_type": "stream",
       "stream": "stdout",
       "text": [
        "Elapsed time (ms): 297.011865079\n"
       ]
      },
      {
       "metadata": {},
       "output_type": "pyout",
       "prompt_number": 85,
       "text": [
        "<matplotlib.image.AxesImage at 0x7cca898>"
       ]
      },
      {
       "metadata": {},
       "output_type": "display_data",
       "png": "[encoded data removed]",
       "text": [
        "<matplotlib.figure.Figure at 0x78a2780>"
       ]
      }
     ],
     "prompt_number": 85
    },
    {
     "cell_type": "markdown",
     "metadata": {},
     "source": [
      "Ok, 4 million points (2k x 2k) takes a little while to process. Let's save that as a csv, and then save it by pickling, and then try and read them back in:"
     ]
    },
    {
     "cell_type": "code",
     "collapsed": false,
     "input": [
      "#save csv\n",
      "st = time.clock()\n",
      "import csv\n",
      "fn_csv = './code/io/csv_example/big_array.csv'\n",
      "with open(fn_csv,'wb') as csvfile:\n",
      "    csv_writer = csv.writer(csvfile)\n",
      "    for z_line in Z:\n",
      "        csv_writer.writerow(z_line)\n",
      "print 'How long did that take? (s)', time.clock() - st\n",
      "# how big is this file..?\n",
      "import os\n",
      "print 'File size (MB):', os.path.getsize(fn_csv)/2**20"
     ],
     "language": "python",
     "metadata": {},
     "outputs": [
      {
       "output_type": "stream",
       "stream": "stdout",
       "text": [
        "How long did that take? (s) 5.22988936046\n",
        "File size (MB): 80\n"
       ]
      }
     ],
     "prompt_number": 86
    },
    {
     "cell_type": "markdown",
     "metadata": {},
     "source": [
      "Quite a large file...\n",
      "\n",
      "Let's try pickle instead..."
     ]
    },
    {
     "cell_type": "code",
     "collapsed": false,
     "input": [
      "#now pickle it instead\n",
      "import cPickle as pickle\n",
      "\n",
      "fn_pkl = './code/io/csv_example/big_array.pkl' # note you can have whatever extension you want here, \n",
      "                                           # or none at all, but I prefer a sensible extension\n",
      "\n",
      "# pickle it\n",
      "st = time.clock()\n",
      "pickle.dump(Z,open(fn_pkl,'wb'))\n",
      "\n",
      "print 'And this time... (s)', time.clock() - st\n",
      "print 'File size (MB):', os.path.getsize(fn_pkl)/2**20"
     ],
     "language": "python",
     "metadata": {},
     "outputs": [
      {
       "output_type": "stream",
       "stream": "stdout",
       "text": [
        "And this time... (s) 2.53754202893\n",
        "File size (MB): 80\n"
       ]
      }
     ],
     "prompt_number": 87
    },
    {
     "cell_type": "markdown",
     "metadata": {},
     "source": [
      "So the file sizes are the same, but the time taken is much longer by the csv writer. Now let's try reading them back in. Here's a pretty generic code for reading csv files to data arrays:"
     ]
    },
    {
     "cell_type": "code",
     "collapsed": false,
     "input": [
      "def read_file_data(filename):\n",
      "    with open(filename,'U') as f:\n",
      "        DataIn = csv.reader(f,delimiter=',')\n",
      "\n",
      "        DataOut = []\n",
      "        # find number of columns\n",
      "        DataLine = DataIn.next()\n",
      "        NCols = len(DataLine)\n",
      "        for i in range(NCols):\n",
      "            DataOut.append([])\n",
      "        print NCols,len(DataOut)\n",
      "\n",
      "        for row in DataIn:\n",
      "            for i in range(NCols):\n",
      "                try:\n",
      "                    DataOut[i].append(float(row[i]))\n",
      "                except: # if not numeric\n",
      "                    DataOut[i].append(0)\n",
      "    return DataOut"
     ],
     "language": "python",
     "metadata": {},
     "outputs": [],
     "prompt_number": 88
    },
    {
     "cell_type": "code",
     "collapsed": false,
     "input": [
      "#read in csv file\n",
      "st = time.clock()\n",
      "Z = read_file_data(fn_csv)\n",
      "print 'Elapsed time (ms):', (time.clock() - st)*1e3"
     ],
     "language": "python",
     "metadata": {},
     "outputs": [
      {
       "output_type": "stream",
       "stream": "stdout",
       "text": [
        "2000 2000\n",
        "Elapsed time (ms):"
       ]
      },
      {
       "output_type": "stream",
       "stream": "stdout",
       "text": [
        " 3473.91947552\n"
       ]
      }
     ],
     "prompt_number": 89
    },
    {
     "cell_type": "markdown",
     "metadata": {},
     "source": [
      "Now compare with reading in from the pickled file"
     ]
    },
    {
     "cell_type": "code",
     "collapsed": false,
     "input": [
      "st = time.clock()\n",
      "Z = pickle.load(open(fn_pkl,'rb'))\n",
      "print 'Elapsed time (ms):', (time.clock() - st)*1e3"
     ],
     "language": "python",
     "metadata": {},
     "outputs": [
      {
       "output_type": "stream",
       "stream": "stdout",
       "text": [
        "Elapsed time (ms): 2868.40562932\n"
       ]
      }
     ],
     "prompt_number": 90
    },
    {
     "cell_type": "markdown",
     "metadata": {},
     "source": [
      "This might not seem like much of a speed-up, but if the file sizes get larger then this becomes a sizeable increase in performance. \n",
      "\n",
      "However, the pickle module is most useful when storing many data types, as there is no need to format the data before saving:"
     ]
    },
    {
     "cell_type": "code",
     "collapsed": false,
     "input": [
      "# pickle example for mixed data types\n",
      "\n",
      "# numpy 1d array\n",
      "x = np.arange(-100,100,0.01)\n",
      "# numpy 2d array\n",
      "y = np.ones((500,500))\n",
      "# list of mixed type\n",
      "z = [1,4,6,0,'abcde']\n",
      "# string\n",
      "a = 'this is a string'\n",
      "# tuple\n",
      "b = (42,'anything')\n",
      "\n"
     ],
     "language": "python",
     "metadata": {},
     "outputs": [],
     "prompt_number": 92
    },
    {
     "cell_type": "markdown",
     "metadata": {},
     "source": [
      "Now let's say we want to save all of this data. Instead of writing many files, it can all be bundled into one pickled file:"
     ]
    },
    {
     "cell_type": "code",
     "collapsed": false,
     "input": [
      "fn_pkl = './code/io/csv_example/multi_out.pkl'\n",
      "#save\n",
      "pickle.dump([x,y,z,a,b],open(fn_pkl,'wb'))"
     ],
     "language": "python",
     "metadata": {},
     "outputs": [],
     "prompt_number": 93
    },
    {
     "cell_type": "markdown",
     "metadata": {},
     "source": [
      "And then to read it back in:"
     ]
    },
    {
     "cell_type": "code",
     "collapsed": false,
     "input": [
      "x2,y2,z2,a2,b2 = pickle.load(open(fn_pkl,'rb'))\n",
      "\n",
      "#check the data is the same as what we put in...\n",
      "print 'Data arrays same?\\n', z2==z, a2==a, b2==b"
     ],
     "language": "python",
     "metadata": {},
     "outputs": [
      {
       "output_type": "stream",
       "stream": "stdout",
       "text": [
        "Data arrays same?\n",
        "True True True\n"
       ]
      }
     ],
     "prompt_number": 97
    },
    {
     "cell_type": "code",
     "collapsed": false,
     "input": [],
     "language": "python",
     "metadata": {},
     "outputs": []
    }
   ],
   "metadata": {}
  }
 ]
}