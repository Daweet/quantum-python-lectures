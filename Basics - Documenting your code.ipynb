{
 "metadata": {
  "name": "",
  "signature": "sha256:5af40c21eb2da02a82af6963c6f8c5a4547a149efe4912865d369a7ba698f546"
 },
 "nbformat": 3,
 "nbformat_minor": 0,
 "worksheets": [
  {
   "cells": [
    {
     "cell_type": "heading",
     "level": 1,
     "metadata": {},
     "source": [
      "Code alienation"
     ]
    },
    {
     "cell_type": "markdown",
     "metadata": {},
     "source": [
      "If you try and read your own code written 3 months ago, chances are that it will feel as if it was written by a total stranger:  weird algorithms, strange variable names, apparently random hard-coded values,\"what's going on here?\",...\n",
      "This \"code alienation\" problem is more acute when the code that you are reading is not even yours! \n",
      "\n",
      "* <b>The good news:</b> everyone thinks like that.\n",
      "* <b>The bad news:</b> you have to work on it. But it's not a great deal of effort.\n",
      "\n",
      "What is the solution to this problem?  Is there a way to make \"code alienation\" less worrysome or painful? To make code that can be read in the future, or can be read by others, you need to <b> document your code</b>.\n"
     ]
    },
    {
     "cell_type": "heading",
     "level": 1,
     "metadata": {},
     "source": [
      "What and Why. Simply."
     ]
    },
    {
     "cell_type": "markdown",
     "metadata": {},
     "source": [
      "The documentation of your code should give information about \n",
      "* what is the code supposed to do\n",
      "* why does it do it that way\n",
      "\n",
      "The first guideline helps mainly other developers to use your code. In python, this mostly consist of the so called <strong>docstrings</strong>, or text that hold information about the functions or objects to be used.\n",
      "\n",
      "The second guideline helps people reading your code, or trying to update or improve it, or fixing bugs, by providing them with a rationale. These consist on <strong>comments</strong> that usually point out the functionality of chunks of code, or explanations about the approach used.\n",
      "\n",
      "However, these guidelines should be complemented with <strong>simplicity</strong>: writing too many comments might not affect the performance of your program, but they are unnecessary, and they clutter the space necessary for reading the program.\n",
      "Too many comments can affect the person reading your code (remember, it might be your future you!): \n",
      "* the person might stop reading it, out of frustration.\n",
      "* they might misunderstand it.\n",
      "\n",
      "Keeping the documentation as simple as possible (but not simpler!) should be the aim of any programmer. The same is true for the code: simple, clean code can reduce the amount of comments needed, specially when meaningful names and structure arise from that simplification. Sometimes people use comments as a crutch for their poor understanding of the program/problem they are tackling.\n"
     ]
    },
    {
     "cell_type": "heading",
     "level": 2,
     "metadata": {},
     "source": [
      "Docstrings:"
     ]
    },
    {
     "cell_type": "markdown",
     "metadata": {},
     "source": [
      "Quoting from <a href=\"http://legacy.python.org/dev/peps/pep-0257/\">PEP 257</a>:\n",
      "> A docstring is a string literal that occurs as the first statement in a module, function, class, or method definition. Such a docstring becomes the __doc__ special attribute of that object.\n",
      "\n",
      "This string should hold information about what the module, function, class or method <strong>DOES</strong>: what is its purpose, what are the variables (if any) required, any options, what are the outputs,...\n",
      "\n",
      "For example, the following are the first lines of a function that implements a complex number from its real and imaginary parts: \n",
      "\n",
      "    def complex(real=0.0, imag=0.0):\n",
      "        \"\"\"Form a complex number.\n",
      "\n",
      "        Keyword arguments:\n",
      "        real -- the real part (default 0.0)\n",
      "        imag -- the imaginary part (default 0.0)\n",
      "        \"\"\"\n",
      "    \n",
      "        if imag == 0.0 and real == 0.0:\n",
      "            return complex_zero\n",
      "        ...\n",
      "\n",
      "\n",
      "They consist of a piece of text (one or multiple lines) that are delimited by a triple double-quotation marks. \n",
      "* One-liners - Just that, a single line between triple quotation marks\n",
      "* Multiple lines - They start with a single line (like a one-liner) followed by a blank line, and then the rest of the explanation (as seen in the previous code example).\n",
      "\n",
      "\n",
      "Please, go and read <a href=\"http://legacy.python.org/dev/peps/pep-0257/\">PEP 257</a> now!\n",
      "\n",
      "\n",
      "\n"
     ]
    },
    {
     "cell_type": "heading",
     "level": 2,
     "metadata": {},
     "source": [
      "Comments:"
     ]
    },
    {
     "cell_type": "markdown",
     "metadata": {},
     "source": [
      "Comments are complete sentences (in English, please!) preceded by the hashtag symbol. They are used to add information that cannot be easily delivered reading the code.\n",
      "\n",
      "Quoting <a href=\"http://queue.acm.org/detail.cfm?id=1053354\">Jef Raskin</a>:\n",
      "> [code] can\u2019t explain why the program is being written, and the rationale for choosing this or that method. [It] cannot discuss the reasons certain alternative approaches were taken. For example:\n",
      ">\n",
      "> <code>:Comment: A binary search turned out to be slower than the Boyer-Moore algorithm for the data sets of interest, thus we have used the more complex, but faster method even though this problem does not at first seem amenable to a string search technique. :End Comment:</code>\n",
      ">\n",
      ">This comment not only names the technique used, but also explains why a simpler approach was not taken.\n",
      "\n",
      "Also, make sure you treat comments as a constitutive part of your code. The comments should talk about what the code is doing and the rationale behind it. If the code changes substantially so as to make the comments obsolete, change your comments accordingly.\n",
      "\n",
      "Quoting from <a href=\"http://legacy.python.org/dev/peps/pep-0008/#comments\">PEP 8</a>:\n",
      ">Comments that contradict the code are worse than no comments. Always make a priority of keeping the comments up-to-date when the code changes!\n",
      "\n"
     ]
    },
    {
     "cell_type": "heading",
     "level": 1,
     "metadata": {},
     "source": [
      "Bad documentation"
     ]
    },
    {
     "cell_type": "markdown",
     "metadata": {},
     "source": [
      "In the community there is some debate regarding <a href=\"http://visualstudiomagazine.com/articles/2011/01/06/to-comment-or-not-to-comment.aspx\">comments in the code</a>. Specially, how much documentation is necessary, what should the comments say, and so on.\n",
      "\n",
      "For example, let's take a look at <b>BADLY DOCUMENTED</b> piece of code:\n"
     ]
    },
    {
     "cell_type": "code",
     "collapsed": false,
     "input": [
      "import scipy as sp #This imports scipy\n",
      "x = sp.linspace(0,2*sp.pi,1000) # This creates an array of 1000 elements from 0 to 10, equally spaced, and stores it in x\n",
      "for d in sp.linspace(0,sp.pi,10):  # For each small angle from 0 to pi in steps of 0.01, do...\n",
      "    MxD = sp.sin(x+d) # This creates an array MxD that stores the values of sin(x)\n",
      "    #Prints the value of the integral of y\n",
      "    print \"The sum is {0:.3f}\".format(sum(MxD*(x[1]-x[0]))) \n"
     ],
     "language": "python",
     "metadata": {},
     "outputs": [
      {
       "output_type": "stream",
       "stream": "stdout",
       "text": [
        "The sum is -0.000\n",
        "The sum is 0.002\n",
        "The sum is 0.004\n",
        "The sum is 0.005\n",
        "The sum is 0.006\n",
        "The sum is 0.006\n",
        "The sum is 0.005\n",
        "The sum is 0.004\n",
        "The sum is 0.002\n",
        "The sum is -0.000\n"
       ]
      }
     ],
     "prompt_number": 1
    },
    {
     "cell_type": "markdown",
     "metadata": {},
     "source": [
      "You can see that this code has a comment every single line, yet it can be considered badly documented. Why? Well, <strong>it fails to deliver crucial information</strong>, like <em> what is the code supposed to do?</em> or <em>why does it do it that way?</em>\n",
      "\n",
      "A better example of the previous code would be"
     ]
    },
    {
     "cell_type": "code",
     "collapsed": false,
     "input": [
      "\"\"\" Test of the integral of a sine in one period.\n",
      "\n",
      "This script aims to check that the integral of a sine\n",
      "function over a period of oscillation is 0, regardless\n",
      "of the initial dephasing.\n",
      "\n",
      "The integral is done for functions of the type sin(x+a), \n",
      "over x from 0 to 2pi (a period of oscillation), with\n",
      "variable initial phase a.\n",
      "\n",
      "Since it is a simple script, we use the Rectangle rule with \n",
      "1000 elements between 0 and 2pi.\n",
      "\n",
      "We expect each output to be close to 0.\n",
      "\"\"\"\n",
      "\n",
      "import scipy as sp\n",
      "#The domain of integration is x=(0,2pi). We use 1000 points.\n",
      "#The test is performed for 10 dephasing angles  angles=(0,pi)\n",
      "x = sp.linspace(0,2*sp.pi,1000)\n",
      "dx = x[1]-x[0]\n",
      "angles = sp.linspace(0,sp.pi,10)\n",
      "\n",
      "for a in angles: \n",
      "    y = sp.sin(x+a) \n",
      "    integral = sum(2*y[1:-1]*dx)\n",
      "    print \"The integral is {0:.3f}\".format(integral) "
     ],
     "language": "python",
     "metadata": {},
     "outputs": [
      {
       "output_type": "stream",
       "stream": "stdout",
       "text": [
        "The integral is -0.000\n",
        "The integral is -0.004\n",
        "The integral is -0.008\n",
        "The integral is -0.011\n",
        "The integral is -0.012\n",
        "The integral is -0.012\n",
        "The integral is -0.011\n",
        "The integral is -0.008\n",
        "The integral is -0.004\n",
        "The integral is -0.000\n"
       ]
      }
     ],
     "prompt_number": 2
    },
    {
     "cell_type": "heading",
     "level": 2,
     "metadata": {},
     "source": [
      "Food for thought:"
     ]
    },
    {
     "cell_type": "markdown",
     "metadata": {},
     "source": [
      "The following links are articles that delve a little more into the issues of documentation in code\n",
      "\n",
      "http://visualstudiomagazine.com/articles/2011/01/06/to-comment-or-not-to-comment.aspx\n",
      "\n",
      "http://visualstudiomagazine.com/articles/2013/06/01/roc-rocks.aspx\n",
      "\n",
      "http://sd.jtimothyking.com/2006/12/15/does-bad-writing-reflect-poor-programming-skills/\n",
      "\n",
      "http://blog.codinghorror.com/code-tells-you-how-comments-tell-you-why/\n",
      "\n",
      "https://en.wikipedia.org/wiki/The_Elements_of_Programming_Style\n",
      "\n"
     ]
    }
   ],
   "metadata": {}
  }
 ]
}